{
 "cells": [
  {
   "cell_type": "markdown",
   "id": "e4743afd-3fae-4506-ad45-6636f8b3397b",
   "metadata": {},
   "source": [
    "Q1) Guido van rossum\n",
    "Q2) Object oriented programming and structured programming\n",
    "Q3) Yes paython is a case sensitive language\n",
    "Q4) .pyi\n",
    "Q5) Interpreted\n",
    "Q6) a module,a function body,and a class definition\n",
    "Q7) # character\n",
    "Q8) sys.version\n",
    "Q9) lambda\n",
    "Q10) pip installed pakages\n",
    "Q11) print(),type(),sorted()\n",
    "Q12) 79\n",
    "Q13) data science,web development\n",
    "Q14) It involves private heap containg all data structures.\n",
    "Q15) Paython can we directly installed from the paython website and to set up path move inside directory create the destination folder and implement installation after building the syste\n"
   ]
  },
  {
   "cell_type": "code",
   "execution_count": 4,
   "id": "98953c06-3a19-4733-915a-15c2200b502f",
   "metadata": {},
   "outputs": [
    {
     "ename": "NameError",
     "evalue": "name 'sys' is not defined",
     "output_type": "error",
     "traceback": [
      "\u001b[0;31m---------------------------------------------------------------------------\u001b[0m",
      "\u001b[0;31mNameError\u001b[0m                                 Traceback (most recent call last)",
      "Cell \u001b[0;32mIn[4], line 1\u001b[0m\n\u001b[0;32m----> 1\u001b[0m \u001b[43msys\u001b[49m\u001b[38;5;241m.\u001b[39mversion\n",
      "\u001b[0;31mNameError\u001b[0m: name 'sys' is not defined"
     ]
    }
   ],
   "source": [
    "sys.version"
   ]
  },
  {
   "cell_type": "code",
   "execution_count": null,
   "id": "3fbb4539-499e-4c66-92a3-a9838516df17",
   "metadata": {},
   "outputs": [],
   "source": []
  }
 ],
 "metadata": {
  "kernelspec": {
   "display_name": "Python 3 (ipykernel)",
   "language": "python",
   "name": "python3"
  },
  "language_info": {
   "codemirror_mode": {
    "name": "ipython",
    "version": 3
   },
   "file_extension": ".py",
   "mimetype": "text/x-python",
   "name": "python",
   "nbconvert_exporter": "python",
   "pygments_lexer": "ipython3",
   "version": "3.10.8"
  }
 },
 "nbformat": 4,
 "nbformat_minor": 5
}
